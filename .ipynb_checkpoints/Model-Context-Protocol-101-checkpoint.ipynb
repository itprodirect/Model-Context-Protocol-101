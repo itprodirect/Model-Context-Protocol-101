{
 "cells": [
  {
   "cell_type": "code",
   "execution_count": 6,
   "id": "e6b78340-5c44-428c-82db-0aecd6ca7e96",
   "metadata": {},
   "outputs": [
    {
     "ename": "ModuleNotFoundError",
     "evalue": "No module named 'pandas'",
     "output_type": "error",
     "traceback": [
      "\u001b[1;31m---------------------------------------------------------------------------\u001b[0m",
      "\u001b[1;31mModuleNotFoundError\u001b[0m                       Traceback (most recent call last)",
      "Cell \u001b[1;32mIn[6], line 1\u001b[0m\n\u001b[1;32m----> 1\u001b[0m \u001b[38;5;28;01mimport\u001b[39;00m\u001b[38;5;250m \u001b[39m\u001b[38;5;21;01mpandas\u001b[39;00m\u001b[38;5;250m \u001b[39m\u001b[38;5;28;01mas\u001b[39;00m\u001b[38;5;250m \u001b[39m\u001b[38;5;21;01mpd\u001b[39;00m\n",
      "\u001b[1;31mModuleNotFoundError\u001b[0m: No module named 'pandas'"
     ]
    }
   ],
   "source": [
    "import pandas as pd"
   ]
  },
  {
   "cell_type": "code",
   "execution_count": 1,
   "id": "75352684-14b1-4fba-9751-fa449f7346e9",
   "metadata": {
    "scrolled": true
   },
   "outputs": [
    {
     "name": "stdout",
     "output_type": "stream",
     "text": [
      "Python 3.10.0\n"
     ]
    }
   ],
   "source": [
    "!python --version"
   ]
  },
  {
   "cell_type": "markdown",
   "id": "e9d3671f-6255-4b7f-a353-4f10c4aa6686",
   "metadata": {},
   "source": [
    "## Step 1: Create the Model Context Protocol Server"
   ]
  },
  {
   "cell_type": "code",
   "execution_count": 3,
   "id": "34a3ed24-8df7-4afd-8bb7-8d1e00fc83ce",
   "metadata": {},
   "outputs": [
    {
     "name": "stdout",
     "output_type": "stream",
     "text": [
      "MCP Server ready! Tools: calculate_profit.\n"
     ]
    }
   ],
   "source": [
    "from fastmcp import FastMCP\n",
    "\n",
    "# Initialize MCP Server\n",
    "mcp = FastMCP(\"BusinessTools\")\n",
    "\n",
    "@mcp.tool()\n",
    "def calculate_profit(revenue: float, expenses: float) -> float:\n",
    "    \"\"\"Calculate profit.\"\"\"\n",
    "    return revenue - expenses\n",
    "\n",
    "print(\"MCP Server ready! Tools: calculate_profit.\")"
   ]
  },
  {
   "cell_type": "markdown",
   "id": "c061d2bb-f4fa-4284-9085-5ae2e9ddee55",
   "metadata": {},
   "source": [
    "## Step 2: Test the MCP Tool Locally"
   ]
  },
  {
   "cell_type": "code",
   "execution_count": 4,
   "id": "31892845-8c8d-417a-a441-9893f86183d0",
   "metadata": {},
   "outputs": [
    {
     "name": "stdout",
     "output_type": "stream",
     "text": [
      "Profit: 400\n"
     ]
    }
   ],
   "source": [
    "profit = calculate_profit(1000, 600)\n",
    "print(\"Profit:\", profit)"
   ]
  },
  {
   "cell_type": "markdown",
   "id": "10f55680-8f86-4b0f-a575-abf2be40aae4",
   "metadata": {},
   "source": [
    "## Step 3: Expand MCP by Adding More Functions"
   ]
  },
  {
   "cell_type": "code",
   "execution_count": 5,
   "id": "6bfbbc4d-ecee-4492-a472-b85fca86c44c",
   "metadata": {},
   "outputs": [
    {
     "ename": "ModuleNotFoundError",
     "evalue": "No module named 'pandas'",
     "output_type": "error",
     "traceback": [
      "\u001b[1;31m---------------------------------------------------------------------------\u001b[0m",
      "\u001b[1;31mModuleNotFoundError\u001b[0m                       Traceback (most recent call last)",
      "Cell \u001b[1;32mIn[5], line 1\u001b[0m\n\u001b[1;32m----> 1\u001b[0m \u001b[38;5;28;01mimport\u001b[39;00m\u001b[38;5;250m \u001b[39m\u001b[38;5;21;01mpandas\u001b[39;00m\u001b[38;5;250m \u001b[39m\u001b[38;5;28;01mas\u001b[39;00m\u001b[38;5;250m \u001b[39m\u001b[38;5;21;01mpd\u001b[39;00m\n\u001b[0;32m      3\u001b[0m \u001b[38;5;129m@mcp\u001b[39m\u001b[38;5;241m.\u001b[39mtool()\n\u001b[0;32m      4\u001b[0m \u001b[38;5;28;01mdef\u001b[39;00m\u001b[38;5;250m \u001b[39m\u001b[38;5;21mget_sales_from_csv\u001b[39m(file_path: \u001b[38;5;28mstr\u001b[39m) \u001b[38;5;241m-\u001b[39m\u001b[38;5;241m>\u001b[39m \u001b[38;5;28mfloat\u001b[39m:\n\u001b[0;32m      5\u001b[0m \u001b[38;5;250m    \u001b[39m\u001b[38;5;124;03m\"\"\"Read total sales from a CSV file.\"\"\"\u001b[39;00m\n",
      "\u001b[1;31mModuleNotFoundError\u001b[0m: No module named 'pandas'"
     ]
    }
   ],
   "source": [
    "import pandas as pd\n",
    "\n",
    "@mcp.tool()\n",
    "def get_sales_from_csv(file_path: str) -> float:\n",
    "    \"\"\"Read total sales from a CSV file.\"\"\"\n",
    "    df = pd.read_csv(file_path)\n",
    "    return df[\"sales\"].sum()"
   ]
  },
  {
   "cell_type": "code",
   "execution_count": null,
   "id": "624c1f17-6718-4d47-871c-275fba94288f",
   "metadata": {},
   "outputs": [],
   "source": []
  },
  {
   "cell_type": "code",
   "execution_count": null,
   "id": "da41522c-f512-4772-864e-d084010cbbda",
   "metadata": {},
   "outputs": [],
   "source": []
  },
  {
   "cell_type": "code",
   "execution_count": null,
   "id": "c7b3c343-e97f-46db-9c38-90a23b7aa5cc",
   "metadata": {},
   "outputs": [],
   "source": []
  }
 ],
 "metadata": {
  "kernelspec": {
   "display_name": "Python 3 (ipykernel)",
   "language": "python",
   "name": "python3"
  },
  "language_info": {
   "codemirror_mode": {
    "name": "ipython",
    "version": 3
   },
   "file_extension": ".py",
   "mimetype": "text/x-python",
   "name": "python",
   "nbconvert_exporter": "python",
   "pygments_lexer": "ipython3",
   "version": "3.10.0"
  }
 },
 "nbformat": 4,
 "nbformat_minor": 5
}
